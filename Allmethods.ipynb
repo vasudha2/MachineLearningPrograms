{
 "cells": [
  {
   "cell_type": "code",
   "execution_count": 1,
   "id": "f6ba3646-686e-46f0-b372-10f22fe82bfb",
   "metadata": {},
   "outputs": [
    {
     "name": "stdout",
     "output_type": "stream",
     "text": [
      "Linear Regression MSE: 24.291119474973602\n",
      "Polynomial Regression MSE: 14.257338169801294\n",
      "Decision Tree Regression MSE: 10.416078431372549\n",
      "Random Forest Regression MSE: 7.901513892156864\n",
      "Support Vector Regression MSE: 25.66853967839604\n",
      "KNN Regression MSE: 20.60552941176471\n",
      "KMeans Cluster Labels (first 10): [1 2 0 1 0 1 1 0 0 1]\n"
     ]
    },
    {
     "name": "stderr",
     "output_type": "stream",
     "text": [
      "C:\\ProgramData\\anaconda3\\Lib\\site-packages\\sklearn\\cluster\\_kmeans.py:1419: UserWarning: KMeans is known to have a memory leak on Windows with MKL, when there are less chunks than available threads. You can avoid it by setting the environment variable OMP_NUM_THREADS=2.\n",
      "  warnings.warn(\n"
     ]
    }
   ],
   "source": [
    "import pandas as pd\n",
    "import numpy as np\n",
    "from sklearn.model_selection import train_test_split\n",
    "from sklearn.preprocessing import StandardScaler, PolynomialFeatures\n",
    "from sklearn.linear_model import LinearRegression\n",
    "from sklearn.tree import DecisionTreeRegressor\n",
    "from sklearn.neighbors import KNeighborsRegressor\n",
    "from sklearn.svm import SVR\n",
    "from sklearn.ensemble import RandomForestRegressor\n",
    "from sklearn.metrics import mean_squared_error\n",
    "from sklearn.cluster import KMeans\n",
    "\n",
    "# 1️⃣ Load your Boston dataset\n",
    "file_path = 'boston_housing.csv'  # change this to your CSV path\n",
    "df = pd.read_csv(file_path)\n",
    "\n",
    "# 2️⃣ Specify target column\n",
    "target_column = 'MEDV'  # Boston dataset target\n",
    "\n",
    "# 3️⃣ Split features and target\n",
    "X = df.drop(columns=[target_column])\n",
    "y = df[target_column]\n",
    "\n",
    "# 4️⃣ Train-test split\n",
    "X_train, X_test, y_train, y_test = train_test_split(X, y, test_size=0.2, random_state=42)\n",
    "\n",
    "# 5️⃣ Scale features\n",
    "scaler = StandardScaler()\n",
    "X_train_scaled = scaler.fit_transform(X_train)\n",
    "X_test_scaled = scaler.transform(X_test)\n",
    "\n",
    "# ----------- Regression Models -----------\n",
    "\n",
    "# Linear Regression\n",
    "lin_reg = LinearRegression()\n",
    "lin_reg.fit(X_train, y_train)\n",
    "y_pred_lin = lin_reg.predict(X_test)\n",
    "print(\"Linear Regression MSE:\", mean_squared_error(y_test, y_pred_lin))\n",
    "\n",
    "# Polynomial Regression (degree=2)\n",
    "poly = PolynomialFeatures(degree=2)\n",
    "X_train_poly = poly.fit_transform(X_train)\n",
    "X_test_poly = poly.transform(X_test)\n",
    "poly_reg = LinearRegression()\n",
    "poly_reg.fit(X_train_poly, y_train)\n",
    "y_pred_poly = poly_reg.predict(X_test_poly)\n",
    "print(\"Polynomial Regression MSE:\", mean_squared_error(y_test, y_pred_poly))\n",
    "\n",
    "# Decision Tree Regressor\n",
    "dt_reg = DecisionTreeRegressor(random_state=42)\n",
    "dt_reg.fit(X_train, y_train)\n",
    "y_pred_dt = dt_reg.predict(X_test)\n",
    "print(\"Decision Tree Regression MSE:\", mean_squared_error(y_test, y_pred_dt))\n",
    "\n",
    "# Random Forest Regressor\n",
    "rf_reg = RandomForestRegressor(random_state=42)\n",
    "rf_reg.fit(X_train, y_train)\n",
    "y_pred_rf = rf_reg.predict(X_test)\n",
    "print(\"Random Forest Regression MSE:\", mean_squared_error(y_test, y_pred_rf))\n",
    "\n",
    "# Support Vector Regressor\n",
    "svr = SVR()\n",
    "svr.fit(X_train_scaled, y_train)\n",
    "y_pred_svr = svr.predict(X_test_scaled)\n",
    "print(\"Support Vector Regression MSE:\", mean_squared_error(y_test, y_pred_svr))\n",
    "\n",
    "# KNN Regressor\n",
    "knn_reg = KNeighborsRegressor()\n",
    "knn_reg.fit(X_train_scaled, y_train)\n",
    "y_pred_knn = knn_reg.predict(X_test_scaled)\n",
    "print(\"KNN Regression MSE:\", mean_squared_error(y_test, y_pred_knn))\n",
    "\n",
    "# ----------- K-Means Clustering (unsupervised) -----------\n",
    "kmeans = KMeans(n_clusters=3, random_state=42)\n",
    "kmeans.fit(X_train_scaled)\n",
    "clusters = kmeans.predict(X_test_scaled)\n",
    "print(\"KMeans Cluster Labels (first 10):\", clusters[:10])\n"
   ]
  },
  {
   "cell_type": "code",
   "execution_count": null,
   "id": "7672f701-a8a7-49f5-9919-e4bd0fdd3f1d",
   "metadata": {},
   "outputs": [],
   "source": []
  }
 ],
 "metadata": {
  "kernelspec": {
   "display_name": "Python [conda env:anaconda3]",
   "language": "python",
   "name": "conda-env-anaconda3-py"
  },
  "language_info": {
   "codemirror_mode": {
    "name": "ipython",
    "version": 3
   },
   "file_extension": ".py",
   "mimetype": "text/x-python",
   "name": "python",
   "nbconvert_exporter": "python",
   "pygments_lexer": "ipython3",
   "version": "3.13.5"
  }
 },
 "nbformat": 4,
 "nbformat_minor": 5
}
